{
 "cells": [
  {
   "cell_type": "markdown",
   "metadata": {},
   "source": [
    "# Importo nombres, goles, goles evitados y asistencias de los jugadores"
   ]
  },
  {
   "cell_type": "code",
   "execution_count": 1,
   "metadata": {},
   "outputs": [],
   "source": [
    "names = \"\"\" Agustin, Yanina, Andrés, Ariadna, Bautista, CAROLINA,\n",
    "CESAR, David, Diego, Dolores, DYLAN, ELIANA, Emanuel, Fabián, Noelia,\n",
    "Francsica, FEDERICO, Fernanda, GONZALO, Nancy \"\"\"\n",
    "goals = [0, 10, 4, 0, 5, 14, 0, 0, 7, 2, 1, 1, 1, 5, 6, 1, 1, 2, 0, 11]\n",
    "goals_avoided = [0, 2, 0, 0, 5, 2, 0, 0, 1, 2, 0, 5, 5, 0, 1, 0, 2, 3, 0, 0]\n",
    "assists = [0, 5, 1, 0, 5, 2, 0, 0, 1, 2, 1, 5, 5, 0, 1, 0, 2, 3, 1, 0]"
   ]
  },
  {
   "cell_type": "markdown",
   "metadata": {},
   "source": [
    "# Saco las comas de la variable 'names' y guardo los nombres en una lista"
   ]
  },
  {
   "cell_type": "code",
   "execution_count": null,
   "metadata": {},
   "outputs": [],
   "source": [
    "clear_names = names.replace(',', '')\n",
    "clear_names = clear_names.split()\n",
    "print (clear_names)"
   ]
  },
  {
   "cell_type": "markdown",
   "metadata": {},
   "source": [
    "# Importo modulo en el que estan todas las funciones a utilizar"
   ]
  },
  {
   "cell_type": "code",
   "execution_count": 6,
   "metadata": {},
   "outputs": [],
   "source": [
    "import functions"
   ]
  },
  {
   "cell_type": "markdown",
   "metadata": {},
   "source": [
    "# Genero la estructura del inciso 1 con la funcion \"estructura\"\n",
    "\n",
    "## \"PLAYERS\" es un diccionario que tiene como llave los nombres de los jugadores y tiene como valor una tupla de 3 elementos (goles, goles evitados, asistencias)"
   ]
  },
  {
   "cell_type": "code",
   "execution_count": 7,
   "metadata": {},
   "outputs": [
    {
     "name": "stdout",
     "output_type": "stream",
     "text": [
      "{'Agustin': (0, 0, 0), 'Yanina': (10, 2, 5), 'Andrés': (4, 0, 1), 'Ariadna': (0, 0, 0), 'Bautista': (5, 5, 5), 'CAROLINA': (14, 2, 2), 'CESAR': (0, 0, 0), 'David': (0, 0, 0), 'Diego': (7, 1, 1), 'Dolores': (2, 2, 2), 'DYLAN': (1, 0, 1), 'ELIANA': (1, 5, 5), 'Emanuel': (1, 5, 5), 'Fabián': (5, 0, 0), 'Noelia': (6, 1, 1), 'Francsica': (1, 0, 0), 'FEDERICO': (1, 2, 2), 'Fernanda': (2, 3, 3), 'GONZALO': (0, 0, 1), 'Nancy': (11, 0, 0)}\n"
     ]
    }
   ],
   "source": [
    "players = functions.estructura (clear_names, goals, goals_avoided, assists)\n",
    "print (players)"
   ]
  }
 ],
 "metadata": {
  "kernelspec": {
   "display_name": "venv",
   "language": "python",
   "name": "python3"
  },
  "language_info": {
   "codemirror_mode": {
    "name": "ipython",
    "version": 3
   },
   "file_extension": ".py",
   "mimetype": "text/x-python",
   "name": "python",
   "nbconvert_exporter": "python",
   "pygments_lexer": "ipython3",
   "version": "3.11.7"
  }
 },
 "nbformat": 4,
 "nbformat_minor": 2
}
